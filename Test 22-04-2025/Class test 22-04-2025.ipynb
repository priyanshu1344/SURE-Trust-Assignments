{
 "cells": [
  {
   "cell_type": "code",
   "execution_count": 1,
   "id": "e7ba65cc",
   "metadata": {},
   "outputs": [],
   "source": [
    "# Question 1"
   ]
  },
  {
   "cell_type": "code",
   "execution_count": 10,
   "id": "5f53a2ca",
   "metadata": {},
   "outputs": [
    {
     "name": "stdout",
     "output_type": "stream",
     "text": [
      "Enter a sentence: Education is important\n",
      "{'a': 2, 'e': 1, 'i': 3, 'o': 2, 'u': 1}\n"
     ]
    }
   ],
   "source": [
    "def count_vow(str):\n",
    "    vowels = 'aeiou'\n",
    "    vowel_count = {v: 0 for v in vowels}\n",
    "    \n",
    "    for char in sentence.lower():\n",
    "        if char in vowels:\n",
    "            vowel_count[char] += 1\n",
    "    \n",
    "    return vowel_count\n",
    "\n",
    "sentence = input(\"Enter a sentence: \")\n",
    "print(count_vow(sentence))"
   ]
  },
  {
   "cell_type": "code",
   "execution_count": 3,
   "id": "41038b6a",
   "metadata": {},
   "outputs": [],
   "source": [
    "# question 2"
   ]
  },
  {
   "cell_type": "code",
   "execution_count": 11,
   "id": "6306d8f6",
   "metadata": {},
   "outputs": [
    {
     "name": "stdout",
     "output_type": "stream",
     "text": [
      "starting number100\n",
      "ending number170\n",
      "101 111 121 131 141 151 161 "
     ]
    }
   ],
   "source": [
    "def is_palindrome(num):\n",
    "    return str(num) == str(num)[::-1] \n",
    "\n",
    "def print_palindromes(start, end):\n",
    "    for num in range(start, end + 1):\n",
    "        if is_palindrome(num):\n",
    "            print(num, end=' ')\n",
    "\n",
    "start_num = int(input(\"starting number\"))\n",
    "end_num = int(input(\"ending number\"))\n",
    "print_palindromes(start_num, end_num)"
   ]
  },
  {
   "cell_type": "code",
   "execution_count": 5,
   "id": "7c99fc8e",
   "metadata": {},
   "outputs": [],
   "source": [
    "# Question 3"
   ]
  },
  {
   "cell_type": "code",
   "execution_count": 9,
   "id": "a41f7987",
   "metadata": {},
   "outputs": [
    {
     "name": "stdout",
     "output_type": "stream",
     "text": [
      "Enter Employee Details:\n",
      "Employee ID: 02\n",
      "Name: john\n",
      "Salary: 150000\n",
      "ID: 02, Name: john, Salary: 150000\n",
      "Employee data saved successfully!\n",
      "\n",
      "Employee Data from File:\n",
      "ID: 01, Name: Priyanshu, Salary: 50000\n",
      "ID: 02, Name: john, Salary: 150000\n"
     ]
    }
   ],
   "source": [
    "class Employee:\n",
    "    def __init__(self, emp_id, name, salary):\n",
    "        self.emp_id = emp_id\n",
    "        self.name = name\n",
    "        self.salary = salary\n",
    "    \n",
    "    def display_details(self):\n",
    "        print(f\"ID: {self.emp_id}, Name: {self.name}, Salary: {self.salary}\")\n",
    "    \n",
    "    def write_to_file(self):\n",
    "        with open('employee_data.txt', 'a') as file:\n",
    "            file.write(f\"{self.emp_id},{self.name},{self.salary}\\n\")\n",
    "        print(\"Employee data saved successfully!\")\n",
    "    \n",
    "    def read_from_file():\n",
    "        try:\n",
    "            with open('employee_data.txt', 'r') as file:\n",
    "                print(\"\\nEmployee Data from File:\")\n",
    "                for line in file:\n",
    "                    line = line.strip()\n",
    "                    if line:\n",
    "                        try:\n",
    "                            emp_id, name, salary = line.split(',')\n",
    "                            print(f\"ID: {emp_id}, Name: {name}, Salary: {salary}\")\n",
    "                        except ValueError:\n",
    "                            print(f\"Skipping malformed line: {line}\")\n",
    "        except FileNotFoundError:\n",
    "            print(\"No employee data file found.\")\n",
    "\n",
    "print(\"Enter Employee Details:\")\n",
    "emp_id = input(\"Employee ID: \")\n",
    "name = input(\"Name: \")\n",
    "salary = input(\"Salary: \")\n",
    "\n",
    "emp = Employee(emp_id, name, salary)\n",
    "emp.display_details()\n",
    "emp.write_to_file()\n",
    "Employee.read_from_file()"
   ]
  },
  {
   "cell_type": "code",
   "execution_count": 7,
   "id": "72eb7401",
   "metadata": {},
   "outputs": [],
   "source": [
    "# Question 4"
   ]
  },
  {
   "cell_type": "code",
   "execution_count": null,
   "id": "13491c4b",
   "metadata": {},
   "outputs": [],
   "source": []
  },
  {
   "cell_type": "code",
   "execution_count": 12,
   "id": "a0965bb1",
   "metadata": {},
   "outputs": [
    {
     "name": "stdout",
     "output_type": "stream",
     "text": [
      "Number of 'error' lines: 4\n"
     ]
    }
   ],
   "source": [
    "class LogAnalyzer:\n",
    "    def __init__(self, filename=\"log.txt\"):\n",
    "        self.filename = filename\n",
    "\n",
    "    def count_errors(self):\n",
    "        count = 0\n",
    "        with open(self.filename, 'r') as file:\n",
    "            for line in file:\n",
    "                if \"error\" in line.lower():\n",
    "                    count += 1\n",
    "        print(f\"Number of 'error' lines: {count}\")\n",
    "\n",
    "analyzer = LogAnalyzer()\n",
    "analyzer.count_errors()\n"
   ]
  },
  {
   "cell_type": "code",
   "execution_count": null,
   "id": "50cd003b",
   "metadata": {},
   "outputs": [],
   "source": []
  }
 ],
 "metadata": {
  "kernelspec": {
   "display_name": "Python 3 (ipykernel)",
   "language": "python",
   "name": "python3"
  },
  "language_info": {
   "codemirror_mode": {
    "name": "ipython",
    "version": 3
   },
   "file_extension": ".py",
   "mimetype": "text/x-python",
   "name": "python",
   "nbconvert_exporter": "python",
   "pygments_lexer": "ipython3",
   "version": "3.11.4"
  }
 },
 "nbformat": 4,
 "nbformat_minor": 5
}
